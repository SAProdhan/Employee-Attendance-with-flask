{
 "cells": [
  {
   "cell_type": "code",
   "execution_count": 11,
   "metadata": {},
   "outputs": [
    {
     "name": "stdout",
     "output_type": "stream",
     "text": [
      "[Organization('Software', 'Intern'), Organization('Admin', 'Admin Officer'), Organization('Marketing', 'Marketing Executive'), Organization('Marketing', 'Business Development Officer'), Organization('Marketing', 'Intern'), Organization('Software', 'Junior Software Developer')]\n"
     ]
    }
   ],
   "source": [
    "from attendance import db\n",
    "from attendance.models import Organization\n",
    "list1 = Organization.query.all()\n",
    "print(list1)"
   ]
  },
  {
   "cell_type": "code",
   "execution_count": 12,
   "metadata": {},
   "outputs": [],
   "source": [
    "def seperat_department_designation(d2_list):\n",
    "    temp = {}\n",
    "    for data in d2_list:\n",
    "        if data.department not in temp:\n",
    "            temp[data.department] = []\n",
    "        if data.designation not in temp[data.department]:\n",
    "            temp[data.department].append(data.designation)\n",
    "    return temp\n",
    "        "
   ]
  },
  {
   "cell_type": "code",
   "execution_count": 18,
   "metadata": {},
   "outputs": [
    {
     "name": "stdout",
     "output_type": "stream",
     "text": [
      "Intern\n",
      "Junior Software Developer\n",
      "\n",
      "Admin Officer\n",
      "\n",
      "Marketing Executive\n",
      "Business Development Officer\n",
      "Intern\n",
      "\n"
     ]
    }
   ],
   "source": [
    "demo =seperat_department_designation(list1)\n",
    "for data in demo:\n",
    "    for temp in demo[data]:\n",
    "        print(temp)\n",
    "    print()"
   ]
  },
  {
   "cell_type": "code",
   "execution_count": null,
   "metadata": {},
   "outputs": [],
   "source": []
  }
 ],
 "metadata": {
  "kernelspec": {
   "display_name": "Python 3.7.0 64-bit ('spame': virtualenv)",
   "language": "python",
   "name": "python37064bitspamevirtualenv3706ecd4ae05493c93c93dc0d8b2728d"
  },
  "language_info": {
   "codemirror_mode": {
    "name": "ipython",
    "version": 3
   },
   "file_extension": ".py",
   "mimetype": "text/x-python",
   "name": "python",
   "nbconvert_exporter": "python",
   "pygments_lexer": "ipython3",
   "version": "3.7.6"
  }
 },
 "nbformat": 4,
 "nbformat_minor": 2
}
